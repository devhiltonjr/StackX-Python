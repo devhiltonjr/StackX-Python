{
  "nbformat": 4,
  "nbformat_minor": 0,
  "metadata": {
    "colab": {
      "name": "OperadoresLogicos.ipynb",
      "provenance": [],
      "authorship_tag": "ABX9TyO3tgzE7xa1qt4pA4wjqb/4",
      "include_colab_link": true
    },
    "kernelspec": {
      "name": "python3",
      "display_name": "Python 3"
    },
    "language_info": {
      "name": "python"
    }
  },
  "cells": [
    {
      "cell_type": "markdown",
      "metadata": {
        "id": "view-in-github",
        "colab_type": "text"
      },
      "source": [
        "<a href=\"https://colab.research.google.com/github/devhiltonjr/StackX-Python/blob/main/OperadoresLogicos.ipynb\" target=\"_parent\"><img src=\"https://colab.research.google.com/assets/colab-badge.svg\" alt=\"Open In Colab\"/></a>"
      ]
    },
    {
      "cell_type": "markdown",
      "source": [
        "  <h1><i>** Operadores Logicos**<i></h1>"
      ],
      "metadata": {
        "id": "VAxVTbjseWde"
      }
    },
    {
      "cell_type": "markdown",
      "source": [
        "Operador 'AND' ou Operador 'E'"
      ],
      "metadata": {
        "id": "iGz-TEk1F3Eh"
      }
    },
    {
      "cell_type": "code",
      "source": [
        "numero = int(input('informe um numero: '));\n",
        "if (numero >=20)and(numero<=60):\n",
        "  print('O numero está na faixa de 20 a 60 anos');\n",
        "else:\n",
        "  print('O numero está fora da faixa de 20 a 60 anos');  "
      ],
      "metadata": {
        "id": "IbDtuTLsGDG6",
        "outputId": "eab19941-d5be-4026-c31f-f5ca2e88028b",
        "colab": {
          "base_uri": "https://localhost:8080/"
        }
      },
      "execution_count": 3,
      "outputs": [
        {
          "output_type": "stream",
          "name": "stdout",
          "text": [
            "informe um numero: 70\n",
            "O numero está fora da faixa de 20 a 60 anos\n"
          ]
        }
      ]
    },
    {
      "cell_type": "markdown",
      "source": [
        "**Operador Logico 'or' ou Oerador 'ou'**\n",
        "\n",
        "```\n",
        "# Isto está formatado como código\n",
        "```\n",
        "\n"
      ],
      "metadata": {
        "id": "LAW3WX1TG6JN"
      }
    },
    {
      "cell_type": "code",
      "source": [
        "sexo = str(input('Informe o seu sexo'));\n",
        "if (sexo == 'Masculino')or(sexo == 'Feminino'):\n",
        "  print('O seu sexo é Valido');\n",
        "else:\n",
        "  print('O seu gênero não ficou claro');"
      ],
      "metadata": {
        "id": "oSZ20TyoHNpK",
        "outputId": "42b9ac5f-a7b8-49f9-c3bd-47998ddc31e4",
        "colab": {
          "base_uri": "https://localhost:8080/"
        }
      },
      "execution_count": 4,
      "outputs": [
        {
          "output_type": "stream",
          "name": "stdout",
          "text": [
            "Informe o seu sexoMasculino\n",
            "O seu sexo é Valido\n"
          ]
        }
      ]
    },
    {
      "cell_type": "markdown",
      "source": [
        "**Operador 'not' ou 'não'**"
      ],
      "metadata": {
        "id": "DhseazbFIkyn"
      }
    },
    {
      "cell_type": "code",
      "source": [
        "a= int(input('Digite um numero: '));\n",
        "if (a!=10):\n",
        "  print('O numero digitado não é igual a 10!.');\n",
        "else:\n",
        "  ('O numero Informado é Igual a 10!.')"
      ],
      "metadata": {
        "id": "D_NMcDlQIuXo",
        "outputId": "3848598e-03d6-4d0c-8abc-3b21ed66d93d",
        "colab": {
          "base_uri": "https://localhost:8080/"
        }
      },
      "execution_count": 5,
      "outputs": [
        {
          "output_type": "stream",
          "name": "stdout",
          "text": [
            "Digite um numero: 5\n",
            "O numero digitado não é igual a 10!.\n"
          ]
        }
      ]
    },
    {
      "cell_type": "markdown",
      "source": [
        ""
      ],
      "metadata": {
        "id": "4YJPYT6_Ft-y"
      }
    }
  ]
}