{
  "nbformat": 4,
  "nbformat_minor": 0,
  "metadata": {
    "colab": {
      "name": "ProgramaMedia.ipynb",
      "provenance": [],
      "authorship_tag": "ABX9TyMvnR5cRjkzzLjyYLQziU9Y",
      "include_colab_link": true
    },
    "kernelspec": {
      "name": "python3",
      "display_name": "Python 3"
    },
    "language_info": {
      "name": "python"
    }
  },
  "cells": [
    {
      "cell_type": "markdown",
      "metadata": {
        "id": "view-in-github",
        "colab_type": "text"
      },
      "source": [
        "<a href=\"https://colab.research.google.com/github/devhiltonjr/StackX-Python/blob/main/ProgramaMedia.ipynb\" target=\"_parent\"><img src=\"https://colab.research.google.com/assets/colab-badge.svg\" alt=\"Open In Colab\"/></a>"
      ]
    },
    {
      "cell_type": "markdown",
      "source": [
        "** Programa Media**"
      ],
      "metadata": {
        "id": "VAxVTbjseWde"
      }
    },
    {
      "cell_type": "code",
      "source": [
        "\n",
        "Aluno = str(input('Informe o nome do aluno: '))\n",
        "nota1 = float(input('Informe a primeira nota: '));\n",
        "nota2 = float(input('Informe a seunda nota: '));\n",
        "nota3 = float(input('Informe a terceira nota '));\n",
        "nota4 = float(input('Informe a quarta nota: '));\n",
        "media = float(nota1+nota2+nota3+nota4)/4;\n",
        "print('A media final do aluno é:', media);\n",
        "if media>=6:\n",
        " print('Aluno aprovado.');\n",
        " print('parabéns!.')\n",
        "else:\n",
        "  print('Aluno reprovado');\n",
        "  print('Estude mais!');\n",
        "  print('tente novamente!')\n",
        " \n",
        "\n",
        "\n",
        "\n",
        "\n",
        "\n"
      ],
      "metadata": {
        "id": "kO_6Cj6zeb9K"
      },
      "execution_count": null,
      "outputs": []
    },
    {
      "cell_type": "markdown",
      "source": [
        "Como exemplo, vamos considerar o problema: “Ler um valor para a variável X, multiplicar esse valor por 3, implicando-o à variável de resposta R e apresentar o valor de R obtido, repetindo esta sequência por cinco vezes”."
      ],
      "metadata": {
        "id": "sTGq9GEohpi8"
      }
    },
    {
      "cell_type": "code",
      "source": [
        "contador = 1;\n",
        "while (contador<=5):\n",
        " x=int(input('Digite o valor de X:'));\n",
        " r= x*3;\n",
        " print('O valor  de R é:',r);\n",
        " contador = contador+1;"
      ],
      "metadata": {
        "id": "bw9CTMUEfE_Z"
      },
      "execution_count": null,
      "outputs": []
    },
    {
      "cell_type": "markdown",
      "source": [
        "Para ilustrar de forma um pouco diferente, imagine que o problema anterior deverá ser executado enquanto o usuário queira. Desta forma, em vez de criarmos dentro da rotina um contador de vezes, criamos uma instrução pedindo que o usuário informe se deseja continuar ou não."
      ],
      "metadata": {
        "id": "7KzrmlrmiRBS"
      }
    },
    {
      "cell_type": "code",
      "source": [
        "contador = 1;\n",
        "resposta = 'sim';\n",
        "while (resposta=='sim'or resposta == 's'):\n",
        " x=int(input('Digite O valor de X:'));\n",
        " r=x*3\n",
        " print('O valor de R é:',r);\n",
        " resposta=input('Deseja continuar?');\n"
      ],
      "metadata": {
        "id": "DmL2Kcz1idEt"
      },
      "execution_count": null,
      "outputs": []
    },
    {
      "cell_type": "markdown",
      "source": [
        "Outro exemplo clássico: Fatorial\n",
        "\n",
        "\n",
        "Calcule o fatorial do número 5:"
      ],
      "metadata": {
        "id": "2stCjNYxrJM9"
      }
    },
    {
      "cell_type": "code",
      "source": [
        "fatorial=contador=1 # contador repete a operação até chegar em 5vezes\n",
        "while(contador<=5):  # para (contador ir até 5) exemplo\n",
        "  fatorial=fatorial * contador;\n",
        "  contador=contador+1;\n",
        "  print('O fatorial de 5 é:', fatorial);\n"
      ],
      "metadata": {
        "id": "j5wy_bnNoxEj"
      },
      "execution_count": null,
      "outputs": []
    },
    {
      "cell_type": "markdown",
      "source": [
        "Dica: Em Python, na biblioteca math tem uma função pronta para calcular fatorial de qualquer número. 😉\n",
        "\n",
        "Operador de Incremento/ Decremento\n",
        "Atualizar uma variável adicionando-se 1 é chamado de incremento (increment); subtrair 1 é chamado decremento (decrement).\n",
        "\n",
        "O exemplo acima utilizou contador = contador + 1\n",
        "\n",
        "Em Python podemos fazer da seguinte forma: contador +=1"
      ],
      "metadata": {
        "id": "Hl8a2A9wtrfI"
      }
    },
    {
      "cell_type": "code",
      "source": [
        "fatorial=contador=1 # contador repete a operação até chegar em 5vezes\n",
        "while(contador<=5):  # para (contador ir até 5) exemplo\n",
        "  fatorial=fatorial * contador;\n",
        "  contador+=1;\n",
        "  print('O fatorial de 5 é:', fatorial);"
      ],
      "metadata": {
        "colab": {
          "base_uri": "https://localhost:8080/"
        },
        "id": "cIru0K0FtZkM",
        "outputId": "ca7f30f6-1872-403f-884c-f6cfbdc53e56"
      },
      "execution_count": 13,
      "outputs": [
        {
          "output_type": "stream",
          "name": "stdout",
          "text": [
            "O fatorial de 5 é: 1\n",
            "O fatorial de 5 é: 2\n",
            "O fatorial de 5 é: 6\n",
            "O fatorial de 5 é: 24\n",
            "O fatorial de 5 é: 120\n"
          ]
        }
      ]
    },
    {
      "cell_type": "code",
      "source": [
        ""
      ],
      "metadata": {
        "id": "0Bq5yvXhtvJk"
      },
      "execution_count": null,
      "outputs": []
    }
  ]
}