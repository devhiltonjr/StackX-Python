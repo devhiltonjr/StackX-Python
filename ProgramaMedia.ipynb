{
  "nbformat": 4,
  "nbformat_minor": 0,
  "metadata": {
    "colab": {
      "name": "ProgramaMedia.ipynb",
      "provenance": [],
      "authorship_tag": "ABX9TyM1u/cdOq/mFQzMUMlpMVaT",
      "include_colab_link": true
    },
    "kernelspec": {
      "name": "python3",
      "display_name": "Python 3"
    },
    "language_info": {
      "name": "python"
    }
  },
  "cells": [
    {
      "cell_type": "markdown",
      "metadata": {
        "id": "view-in-github",
        "colab_type": "text"
      },
      "source": [
        "<a href=\"https://colab.research.google.com/github/devhiltonjr/StackX-Python/blob/main/ProgramaMedia.ipynb\" target=\"_parent\"><img src=\"https://colab.research.google.com/assets/colab-badge.svg\" alt=\"Open In Colab\"/></a>"
      ]
    },
    {
      "cell_type": "markdown",
      "source": [
        "** Programa Media**"
      ],
      "metadata": {
        "id": "VAxVTbjseWde"
      }
    },
    {
      "cell_type": "code",
      "source": [
        "\n",
        "Aluno = str(input('Informe o nome do aluno: '))\n",
        "nota1 = float(input('Informe a primeira nota: '));\n",
        "nota2 = float(input('Informe a seunda nota: '));\n",
        "nota3 = float(input('Informe a terceira nota '));\n",
        "nota4 = float(input('Informe a quarta nota: '));\n",
        "media = float(nota1+nota2+nota3+nota4)/4;\n",
        "print('A media final do aluno é:', media);\n",
        "if media>=6:\n",
        " print('Aluno aprovado.');\n",
        " print('parabéns!.')\n",
        "else:\n",
        "  print('Aluno reprovado');\n",
        "  print('Estude mais!');\n",
        "  print('tente novamente!')\n",
        " \n",
        "\n",
        "\n",
        "\n",
        "\n",
        "\n"
      ],
      "metadata": {
        "colab": {
          "base_uri": "https://localhost:8080/"
        },
        "id": "kO_6Cj6zeb9K",
        "outputId": "c9ab61d4-e5f7-4140-ec6b-78312f2245cf"
      },
      "execution_count": 2,
      "outputs": [
        {
          "output_type": "stream",
          "name": "stdout",
          "text": [
            "Informe a primeira nota: 4\n",
            "Informe a seunda nota: 6\n",
            "Informe a terceira nota 5\n",
            "Informe a quarta nota: 4\n",
            "A media final do aluno é: 4.75\n",
            "Aluno reprovado\n",
            "Estude mais!\n"
          ]
        }
      ]
    }
  ]
}